{
 "cells": [
  {
   "cell_type": "code",
   "execution_count": 1,
   "metadata": {
    "collapsed": true
   },
   "outputs": [],
   "source": [
    "import numpy as np\n",
    "import pandas as pd\n",
    "import xgboost as xgb\n",
    "from sklearn.preprocessing import OneHotEncoder"
   ]
  },
  {
   "cell_type": "code",
   "execution_count": 2,
   "metadata": {
    "collapsed": true
   },
   "outputs": [],
   "source": [
    "def reduce_dimen(dataset,column,toreplace):\n",
    "    for index,i in dataset[column].duplicated(keep=False).iteritems():\n",
    "        if i==False:\n",
    "            dataset.set_value(index,column,toreplace)\n",
    "    return dataset"
   ]
  },
  {
   "cell_type": "code",
   "execution_count": 3,
   "metadata": {
    "collapsed": true
   },
   "outputs": [],
   "source": [
    "def act_data_treatment(dataset):\n",
    "    \n",
    "    for col in list(dataset.columns):\n",
    "        if col not in ['people_id', 'activity_id', 'date', 'char_38', 'outcome']:\n",
    "            if dataset[col].dtype == 'object':\n",
    "                dataset[col].fillna('type 0', inplace=True)\n",
    "                dataset[col] = dataset[col].apply(lambda x: x.split(' ')[1]).astype(np.int32)\n",
    "            elif dataset[col].dtype == 'bool':\n",
    "                dataset[col] = dataset[col].astype(np.int8)\n",
    "    \n",
    "    dataset['year'] = dataset['date'].dt.year\n",
    "    dataset['month'] = dataset['date'].dt.month\n",
    "    dataset['day'] = dataset['date'].dt.day\n",
    "    dataset['isweekend'] = (dataset['date'].dt.weekday >= 5).astype(int)\n",
    "    dataset = dataset.drop('date', axis = 1)\n",
    "    \n",
    "    return dataset"
   ]
  },
  {
   "cell_type": "code",
   "execution_count": 4,
   "metadata": {
    "collapsed": true
   },
   "outputs": [],
   "source": [
    "act_train_data = pd.read_csv(\"act_train.csv\",dtype={'people_id': np.str, 'activity_id': np.str, 'outcome': np.int8}, parse_dates=['date'])\n",
    "act_test_data  = pd.read_csv(\"act_test.csv\", dtype={'people_id': np.str, 'activity_id': np.str}, parse_dates=['date'])\n",
    "people_data    = pd.read_csv(\"people.csv\", dtype={'people_id': np.str, 'activity_id': np.str, 'char_38': np.int32}, parse_dates=['date'])"
   ]
  },
  {
   "cell_type": "code",
   "execution_count": 5,
   "metadata": {
    "collapsed": true
   },
   "outputs": [],
   "source": [
    "act_train_data=act_train_data.drop('char_10',axis=1)\n",
    "act_test_data=act_test_data.drop('char_10',axis=1)"
   ]
  },
  {
   "cell_type": "code",
   "execution_count": 6,
   "metadata": {},
   "outputs": [
    {
     "name": "stdout",
     "output_type": "stream",
     "text": [
      "Train data shape:(2197291, 14)\n",
      "Test data shape:(498687, 13)\n",
      "People data shape:(189118, 41)\n"
     ]
    }
   ],
   "source": [
    "print('Train data shape:' + format(act_train_data.shape))\n",
    "print(\"Test data shape:\" + format(act_test_data.shape))\n",
    "print(\"People data shape:\" + format(people_data.shape))"
   ]
  },
  {
   "cell_type": "code",
   "execution_count": 7,
   "metadata": {
    "collapsed": true
   },
   "outputs": [],
   "source": [
    "act_train_data  = act_data_treatment(act_train_data)\n",
    "act_test_data   = act_data_treatment(act_test_data)\n",
    "people_data = act_data_treatment(people_data)"
   ]
  },
  {
   "cell_type": "code",
   "execution_count": 8,
   "metadata": {
    "collapsed": true
   },
   "outputs": [],
   "source": [
    "train = act_train_data.merge(people_data, on='people_id')\n",
    "test  = act_test_data.merge(people_data, on='people_id')\n",
    "del act_train_data\n",
    "del act_test_data\n",
    "del people_data"
   ]
  },
  {
   "cell_type": "code",
   "execution_count": 9,
   "metadata": {
    "collapsed": true
   },
   "outputs": [],
   "source": [
    "train=train.sort_values(['people_id'])\n",
    "test=test.sort_values(['people_id'])"
   ]
  },
  {
   "cell_type": "code",
   "execution_count": 10,
   "metadata": {
    "collapsed": true
   },
   "outputs": [],
   "source": [
    "train_columns=train.columns.values\n",
    "test_columns=test.columns.values\n",
    "features=list(set(train_columns) & set(test_columns))"
   ]
  },
  {
   "cell_type": "code",
   "execution_count": 11,
   "metadata": {
    "collapsed": true
   },
   "outputs": [],
   "source": [
    "train.fillna('NA', inplace=True)\n",
    "test.fillna('NA',inplace=True)\n",
    "y=train.outcome\n",
    "train=train.drop('outcome',axis=1)"
   ]
  },
  {
   "cell_type": "code",
   "execution_count": 12,
   "metadata": {
    "collapsed": true
   },
   "outputs": [],
   "source": [
    "whole=pd.concat([train,test],ignore_index=True)\n",
    "categorical=['group_1','activity_category','char_1_x','char_2_x','char_3_x','char_4_x','char_5_x','char_6_x','char_7_x','char_8_x','char_9_x','char_2_y','char_3_y','char_4_y','char_5_y','char_6_y','char_7_y','char_8_y','char_9_y']"
   ]
  },
  {
   "cell_type": "code",
   "execution_count": 13,
   "metadata": {
    "collapsed": true
   },
   "outputs": [],
   "source": [
    "for category in categorical:\n",
    "    whole=reduce_dimen(whole,category,9999999)"
   ]
  },
  {
   "cell_type": "code",
   "execution_count": 14,
   "metadata": {
    "collapsed": true
   },
   "outputs": [],
   "source": [
    "X=whole[:len(train)]\n",
    "X_test=whole[len(train):]\n",
    "del train\n",
    "del whole"
   ]
  },
  {
   "cell_type": "code",
   "execution_count": 15,
   "metadata": {
    "collapsed": true
   },
   "outputs": [],
   "source": [
    "X=X[features].drop(['people_id','activity_id'], axis=1)\n",
    "X_test = X_test[features].drop(['people_id', 'activity_id'], axis = 1)"
   ]
  },
  {
   "cell_type": "code",
   "execution_count": 16,
   "metadata": {
    "collapsed": true
   },
   "outputs": [],
   "source": [
    "not_categorical=[]\n",
    "for category in X.columns:\n",
    "    if category not in categorical:\n",
    "        not_categorical.append(category)"
   ]
  },
  {
   "cell_type": "code",
   "execution_count": 17,
   "metadata": {
    "collapsed": true
   },
   "outputs": [],
   "source": [
    "enc = OneHotEncoder(handle_unknown='ignore')\n",
    "enc=enc.fit(pd.concat([X[categorical],X_test[categorical]]))\n",
    "X_cat_sparse=enc.transform(X[categorical])\n",
    "X_test_cat_sparse=enc.transform(X_test[categorical])"
   ]
  },
  {
   "cell_type": "code",
   "execution_count": 18,
   "metadata": {
    "collapsed": true
   },
   "outputs": [],
   "source": [
    "from scipy.sparse import hstack\n",
    "X_sparse=hstack((X[not_categorical], X_cat_sparse))\n",
    "X_test_sparse=hstack((X_test[not_categorical], X_test_cat_sparse))"
   ]
  },
  {
   "cell_type": "code",
   "execution_count": 19,
   "metadata": {},
   "outputs": [],
   "source": [
    "dtrain = xgb.DMatrix(X_sparse,label=y)\n",
    "dtest = xgb.DMatrix(X_test_sparse)"
   ]
  },
  {
   "cell_type": "code",
   "execution_count": 20,
   "metadata": {},
   "outputs": [
    {
     "name": "stdout",
     "output_type": "stream",
     "text": [
      "[0]\ttrain-auc:0.886945\n",
      "Will train until train-auc hasn't improved in 10 rounds.\n",
      "[1]\ttrain-auc:0.895151\n",
      "[2]\ttrain-auc:0.903531\n",
      "[3]\ttrain-auc:0.912137\n",
      "[4]\ttrain-auc:0.920528\n",
      "[5]\ttrain-auc:0.928519\n",
      "[6]\ttrain-auc:0.935846\n",
      "[7]\ttrain-auc:0.942586\n",
      "[8]\ttrain-auc:0.948834\n",
      "[9]\ttrain-auc:0.954631\n",
      "[10]\ttrain-auc:0.959941\n",
      "[11]\ttrain-auc:0.964739\n",
      "[12]\ttrain-auc:0.968986\n",
      "[13]\ttrain-auc:0.972686\n",
      "[14]\ttrain-auc:0.975862\n",
      "[15]\ttrain-auc:0.978559\n",
      "[16]\ttrain-auc:0.980838\n",
      "[17]\ttrain-auc:0.982751\n",
      "[18]\ttrain-auc:0.984347\n",
      "[19]\ttrain-auc:0.985682\n",
      "[20]\ttrain-auc:0.986803\n",
      "[21]\ttrain-auc:0.987745\n",
      "[22]\ttrain-auc:0.988549\n",
      "[23]\ttrain-auc:0.98924\n",
      "[24]\ttrain-auc:0.989841\n",
      "[25]\ttrain-auc:0.99037\n",
      "[26]\ttrain-auc:0.99084\n",
      "[27]\ttrain-auc:0.991261\n",
      "[28]\ttrain-auc:0.99164\n",
      "[29]\ttrain-auc:0.991984\n",
      "[30]\ttrain-auc:0.992298\n",
      "[31]\ttrain-auc:0.992586\n",
      "[32]\ttrain-auc:0.99285\n",
      "[33]\ttrain-auc:0.993092\n",
      "[34]\ttrain-auc:0.993317\n",
      "[35]\ttrain-auc:0.993524\n",
      "[36]\ttrain-auc:0.993716\n",
      "[37]\ttrain-auc:0.993895\n",
      "[38]\ttrain-auc:0.994062\n",
      "[39]\ttrain-auc:0.994217\n",
      "[40]\ttrain-auc:0.994363\n",
      "[41]\ttrain-auc:0.994501\n",
      "[42]\ttrain-auc:0.994629\n",
      "[43]\ttrain-auc:0.99475\n",
      "[44]\ttrain-auc:0.994865\n",
      "[45]\ttrain-auc:0.994973\n",
      "[46]\ttrain-auc:0.995075\n",
      "[47]\ttrain-auc:0.995171\n",
      "[48]\ttrain-auc:0.995263\n",
      "[49]\ttrain-auc:0.995349\n",
      "[50]\ttrain-auc:0.995431\n",
      "[51]\ttrain-auc:0.995508\n",
      "[52]\ttrain-auc:0.995582\n",
      "[53]\ttrain-auc:0.995652\n",
      "[54]\ttrain-auc:0.995718\n",
      "[55]\ttrain-auc:0.995782\n",
      "[56]\ttrain-auc:0.995842\n",
      "[57]\ttrain-auc:0.9959\n",
      "[58]\ttrain-auc:0.995955\n",
      "[59]\ttrain-auc:0.996007\n",
      "[60]\ttrain-auc:0.996056\n",
      "[61]\ttrain-auc:0.996104\n",
      "[62]\ttrain-auc:0.99615\n",
      "[63]\ttrain-auc:0.996193\n",
      "[64]\ttrain-auc:0.996234\n",
      "[65]\ttrain-auc:0.996274\n",
      "[66]\ttrain-auc:0.996312\n",
      "[67]\ttrain-auc:0.996349\n",
      "[68]\ttrain-auc:0.996384\n",
      "[69]\ttrain-auc:0.996418\n",
      "[70]\ttrain-auc:0.99645\n",
      "[71]\ttrain-auc:0.996481\n",
      "[72]\ttrain-auc:0.99651\n",
      "[73]\ttrain-auc:0.996538\n",
      "[74]\ttrain-auc:0.996566\n",
      "[75]\ttrain-auc:0.996592\n",
      "[76]\ttrain-auc:0.996616\n",
      "[77]\ttrain-auc:0.99664\n",
      "[78]\ttrain-auc:0.996663\n",
      "[79]\ttrain-auc:0.996685\n",
      "[80]\ttrain-auc:0.996707\n",
      "[81]\ttrain-auc:0.996727\n",
      "[82]\ttrain-auc:0.996746\n",
      "[83]\ttrain-auc:0.996765\n",
      "[84]\ttrain-auc:0.996783\n",
      "[85]\ttrain-auc:0.9968\n",
      "[86]\ttrain-auc:0.996817\n",
      "[87]\ttrain-auc:0.996832\n",
      "[88]\ttrain-auc:0.996847\n",
      "[89]\ttrain-auc:0.996862\n",
      "[90]\ttrain-auc:0.996876\n",
      "[91]\ttrain-auc:0.996889\n",
      "[92]\ttrain-auc:0.996902\n",
      "[93]\ttrain-auc:0.996914\n",
      "[94]\ttrain-auc:0.996925\n",
      "[95]\ttrain-auc:0.996936\n",
      "[96]\ttrain-auc:0.996947\n",
      "[97]\ttrain-auc:0.996957\n",
      "[98]\ttrain-auc:0.996967\n",
      "[99]\ttrain-auc:0.996976\n",
      "[100]\ttrain-auc:0.996985\n",
      "[101]\ttrain-auc:0.996994\n",
      "[102]\ttrain-auc:0.997002\n",
      "[103]\ttrain-auc:0.99701\n",
      "[104]\ttrain-auc:0.997018\n",
      "[105]\ttrain-auc:0.997025\n",
      "[106]\ttrain-auc:0.997032\n",
      "[107]\ttrain-auc:0.997039\n",
      "[108]\ttrain-auc:0.997045\n",
      "[109]\ttrain-auc:0.997052\n",
      "[110]\ttrain-auc:0.997058\n",
      "[111]\ttrain-auc:0.997064\n",
      "[112]\ttrain-auc:0.997069\n",
      "[113]\ttrain-auc:0.997075\n",
      "[114]\ttrain-auc:0.99708\n",
      "[115]\ttrain-auc:0.997085\n",
      "[116]\ttrain-auc:0.99709\n",
      "[117]\ttrain-auc:0.997095\n",
      "[118]\ttrain-auc:0.997099\n",
      "[119]\ttrain-auc:0.997104\n",
      "[120]\ttrain-auc:0.997108\n",
      "[121]\ttrain-auc:0.997112\n",
      "[122]\ttrain-auc:0.997116\n",
      "[123]\ttrain-auc:0.99712\n",
      "[124]\ttrain-auc:0.997124\n",
      "[125]\ttrain-auc:0.997128\n",
      "[126]\ttrain-auc:0.997131\n",
      "[127]\ttrain-auc:0.997135\n",
      "[128]\ttrain-auc:0.997138\n",
      "[129]\ttrain-auc:0.997141\n",
      "[130]\ttrain-auc:0.997144\n",
      "[131]\ttrain-auc:0.997147\n",
      "[132]\ttrain-auc:0.99715\n",
      "[133]\ttrain-auc:0.997153\n",
      "[134]\ttrain-auc:0.997155\n",
      "[135]\ttrain-auc:0.997158\n",
      "[136]\ttrain-auc:0.99716\n",
      "[137]\ttrain-auc:0.997163\n",
      "[138]\ttrain-auc:0.997165\n",
      "[139]\ttrain-auc:0.997168\n",
      "[140]\ttrain-auc:0.99717\n",
      "[141]\ttrain-auc:0.997172\n",
      "[142]\ttrain-auc:0.997174\n",
      "[143]\ttrain-auc:0.997176\n",
      "[144]\ttrain-auc:0.997178\n",
      "[145]\ttrain-auc:0.99718\n",
      "[146]\ttrain-auc:0.997182\n",
      "[147]\ttrain-auc:0.997184\n",
      "[148]\ttrain-auc:0.997185\n",
      "[149]\ttrain-auc:0.997187\n",
      "[150]\ttrain-auc:0.997189\n",
      "[151]\ttrain-auc:0.99719\n",
      "[152]\ttrain-auc:0.997192\n",
      "[153]\ttrain-auc:0.997194\n",
      "[154]\ttrain-auc:0.997195\n",
      "[155]\ttrain-auc:0.997196\n",
      "[156]\ttrain-auc:0.997198\n",
      "[157]\ttrain-auc:0.997199\n",
      "[158]\ttrain-auc:0.9972\n",
      "[159]\ttrain-auc:0.997202\n",
      "[160]\ttrain-auc:0.997203\n",
      "[161]\ttrain-auc:0.997204\n",
      "[162]\ttrain-auc:0.997205\n",
      "[163]\ttrain-auc:0.997206\n",
      "[164]\ttrain-auc:0.997207\n",
      "[165]\ttrain-auc:0.997208\n",
      "[166]\ttrain-auc:0.99721\n",
      "[167]\ttrain-auc:0.997211\n",
      "[168]\ttrain-auc:0.997211\n",
      "[169]\ttrain-auc:0.997212\n",
      "[170]\ttrain-auc:0.997213\n",
      "[171]\ttrain-auc:0.997214\n",
      "[172]\ttrain-auc:0.997215\n",
      "[173]\ttrain-auc:0.997216\n",
      "[174]\ttrain-auc:0.997217\n",
      "[175]\ttrain-auc:0.997217\n",
      "[176]\ttrain-auc:0.997218\n",
      "[177]\ttrain-auc:0.997219\n",
      "[178]\ttrain-auc:0.99722\n",
      "[179]\ttrain-auc:0.99722\n",
      "[180]\ttrain-auc:0.997221\n",
      "[181]\ttrain-auc:0.997222\n",
      "[182]\ttrain-auc:0.997222\n",
      "[183]\ttrain-auc:0.997223\n",
      "[184]\ttrain-auc:0.997223\n",
      "[185]\ttrain-auc:0.997224\n",
      "[186]\ttrain-auc:0.997225\n",
      "[187]\ttrain-auc:0.997225\n",
      "[188]\ttrain-auc:0.997226\n",
      "[189]\ttrain-auc:0.997226\n",
      "[190]\ttrain-auc:0.997227\n",
      "[191]\ttrain-auc:0.997227\n",
      "[192]\ttrain-auc:0.997228\n",
      "[193]\ttrain-auc:0.997228\n",
      "[194]\ttrain-auc:0.997229\n",
      "[195]\ttrain-auc:0.997229\n",
      "[196]\ttrain-auc:0.997229\n",
      "[197]\ttrain-auc:0.99723\n",
      "[198]\ttrain-auc:0.99723\n",
      "[199]\ttrain-auc:0.997231\n",
      "[200]\ttrain-auc:0.997231\n",
      "[201]\ttrain-auc:0.997231\n",
      "[202]\ttrain-auc:0.997232\n",
      "[203]\ttrain-auc:0.997232\n",
      "[204]\ttrain-auc:0.997233\n",
      "[205]\ttrain-auc:0.997233\n",
      "[206]\ttrain-auc:0.997233\n",
      "[207]\ttrain-auc:0.997234\n",
      "[208]\ttrain-auc:0.997234\n",
      "[209]\ttrain-auc:0.997234\n",
      "[210]\ttrain-auc:0.997235\n",
      "[211]\ttrain-auc:0.997235\n",
      "[212]\ttrain-auc:0.997235\n",
      "[213]\ttrain-auc:0.997235\n",
      "[214]\ttrain-auc:0.997236\n",
      "[215]\ttrain-auc:0.997236\n",
      "[216]\ttrain-auc:0.997236\n",
      "[217]\ttrain-auc:0.997237\n",
      "[218]\ttrain-auc:0.997237\n",
      "[219]\ttrain-auc:0.997237\n",
      "[220]\ttrain-auc:0.997237\n",
      "[221]\ttrain-auc:0.997238\n",
      "[222]\ttrain-auc:0.997238\n",
      "[223]\ttrain-auc:0.997238\n",
      "[224]\ttrain-auc:0.997238\n",
      "[225]\ttrain-auc:0.997239\n",
      "[226]\ttrain-auc:0.997239\n",
      "[227]\ttrain-auc:0.997239\n",
      "[228]\ttrain-auc:0.997239\n",
      "[229]\ttrain-auc:0.99724\n",
      "[230]\ttrain-auc:0.99724\n",
      "[231]\ttrain-auc:0.99724\n",
      "[232]\ttrain-auc:0.99724\n",
      "[233]\ttrain-auc:0.99724\n",
      "[234]\ttrain-auc:0.997241\n",
      "[235]\ttrain-auc:0.997241\n",
      "[236]\ttrain-auc:0.997241\n",
      "[237]\ttrain-auc:0.997241\n",
      "[238]\ttrain-auc:0.997241\n",
      "[239]\ttrain-auc:0.997242\n",
      "[240]\ttrain-auc:0.997242\n",
      "[241]\ttrain-auc:0.997242\n",
      "[242]\ttrain-auc:0.997242\n",
      "[243]\ttrain-auc:0.997242\n",
      "[244]\ttrain-auc:0.997243\n",
      "[245]\ttrain-auc:0.997243\n",
      "[246]\ttrain-auc:0.997243\n",
      "[247]\ttrain-auc:0.997243\n",
      "[248]\ttrain-auc:0.997243\n",
      "[249]\ttrain-auc:0.997244\n",
      "[250]\ttrain-auc:0.997244\n",
      "[251]\ttrain-auc:0.997244\n",
      "[252]\ttrain-auc:0.997244\n",
      "[253]\ttrain-auc:0.997244\n",
      "[254]\ttrain-auc:0.997244\n",
      "[255]\ttrain-auc:0.997245\n",
      "[256]\ttrain-auc:0.997245\n",
      "[257]\ttrain-auc:0.997245\n",
      "[258]\ttrain-auc:0.997245\n",
      "[259]\ttrain-auc:0.997245\n",
      "[260]\ttrain-auc:0.997245\n",
      "[261]\ttrain-auc:0.997246\n",
      "[262]\ttrain-auc:0.997246\n",
      "[263]\ttrain-auc:0.997246\n",
      "[264]\ttrain-auc:0.997246\n",
      "[265]\ttrain-auc:0.997246\n",
      "[266]\ttrain-auc:0.997246\n",
      "[267]\ttrain-auc:0.997246\n",
      "[268]\ttrain-auc:0.997247\n",
      "[269]\ttrain-auc:0.997247\n",
      "[270]\ttrain-auc:0.997247\n",
      "[271]\ttrain-auc:0.997247\n",
      "[272]\ttrain-auc:0.997247\n",
      "[273]\ttrain-auc:0.997247\n",
      "[274]\ttrain-auc:0.997247\n",
      "[275]\ttrain-auc:0.997248\n",
      "[276]\ttrain-auc:0.997248\n",
      "[277]\ttrain-auc:0.997248\n",
      "[278]\ttrain-auc:0.997248\n",
      "[279]\ttrain-auc:0.997248\n",
      "[280]\ttrain-auc:0.997248\n",
      "[281]\ttrain-auc:0.997249\n",
      "[282]\ttrain-auc:0.997249\n",
      "[283]\ttrain-auc:0.997249\n",
      "[284]\ttrain-auc:0.997249\n",
      "[285]\ttrain-auc:0.997249\n",
      "[286]\ttrain-auc:0.997249\n",
      "[287]\ttrain-auc:0.997249\n",
      "[288]\ttrain-auc:0.997249\n",
      "[289]\ttrain-auc:0.99725\n",
      "[290]\ttrain-auc:0.99725\n",
      "[291]\ttrain-auc:0.99725\n",
      "[292]\ttrain-auc:0.99725\n",
      "[293]\ttrain-auc:0.99725\n",
      "[294]\ttrain-auc:0.99725\n",
      "[295]\ttrain-auc:0.99725\n",
      "[296]\ttrain-auc:0.997251\n",
      "[297]\ttrain-auc:0.997251\n",
      "[298]\ttrain-auc:0.997251\n",
      "[299]\ttrain-auc:0.997251\n"
     ]
    }
   ],
   "source": [
    "param = {'max_depth':10, 'eta':0.02, 'silent':1, 'objective':'binary:logistic' }\n",
    "param['nthread'] = 4\n",
    "param['eval_metric'] = 'auc'\n",
    "param['subsample'] = 0.7\n",
    "param['colsample_bytree']= 0.7\n",
    "param['min_child_weight'] = 0\n",
    "param['booster'] = \"gblinear\"\n",
    "\n",
    "watchlist  = [(dtrain,'train')]\n",
    "num_round = 300\n",
    "early_stopping_rounds=10\n",
    "bst = xgb.train(param, dtrain, num_round, watchlist,early_stopping_rounds=early_stopping_rounds)\n",
    "\n",
    "ypred = bst.predict(dtest)\n",
    "output = pd.DataFrame({ 'activity_id' : test['activity_id'], 'outcome': ypred })\n",
    "output.head()\n",
    "output.to_csv('without_leak.csv', index = False)"
   ]
  },
  {
   "cell_type": "code",
   "execution_count": null,
   "metadata": {
    "collapsed": true
   },
   "outputs": [],
   "source": []
  }
 ],
 "metadata": {
  "kernelspec": {
   "display_name": "Python 3",
   "language": "python",
   "name": "python3"
  },
  "language_info": {
   "codemirror_mode": {
    "name": "ipython",
    "version": 3
   },
   "file_extension": ".py",
   "mimetype": "text/x-python",
   "name": "python",
   "nbconvert_exporter": "python",
   "pygments_lexer": "ipython3",
   "version": "3.6.2"
  }
 },
 "nbformat": 4,
 "nbformat_minor": 2
}
